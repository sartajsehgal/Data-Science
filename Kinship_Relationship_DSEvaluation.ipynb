{
  "nbformat": 4,
  "nbformat_minor": 0,
  "metadata": {
    "colab": {
      "name": "Kinship_Relationship_DSEvaluation.ipynb",
      "provenance": [],
      "mount_file_id": "13oci9xmeAc-eeaffR26TwIRrhcQCgbZ4",
      "authorship_tag": "ABX9TyMfSFN5F+QpOinNQvkrVQsO",
      "include_colab_link": true
    },
    "kernelspec": {
      "name": "python3",
      "display_name": "Python 3"
    },
    "language_info": {
      "name": "python"
    }
  },
  "cells": [
    {
      "cell_type": "markdown",
      "metadata": {
        "id": "view-in-github",
        "colab_type": "text"
      },
      "source": [
        "<a href=\"https://colab.research.google.com/github/sartajsehgal/Data-Science/blob/main/Kinship_Relationship_DSEvaluation.ipynb\" target=\"_parent\"><img src=\"https://colab.research.google.com/assets/colab-badge.svg\" alt=\"Open In Colab\"/></a>"
      ]
    },
    {
      "cell_type": "code",
      "execution_count": 1,
      "metadata": {
        "id": "SvCFvT6U_6yL"
      },
      "outputs": [],
      "source": [
        "import numpy as np\n",
        "import os\n",
        "import matplotlib.pyplot as plt\n",
        "import cv2\n",
        "from sklearn.decomposition import PCA\n",
        "from mpl_toolkits.mplot3d import Axes3D\n",
        "from mpl_toolkits.mplot3d import proj3d\n",
        "from imageio import imread\n",
        "from skimage.transform import resize\n",
        "from scipy.spatial import distance\n",
        "from keras.models import load_model\n",
        "import pandas as pd\n",
        "from tqdm import tqdm"
      ]
    },
    {
      "cell_type": "code",
      "source": [
        "train_df = pd.read_csv(\"/content/drive/MyDrive/Kaggle/SMILE_dataset/train_relationships.csv\")\n",
        "test_df = pd.read_csv(\"/content/drive/MyDrive/Kaggle/SMILE_dataset/sample_submission.csv\")"
      ],
      "metadata": {
        "id": "0P3m_NUxAInL"
      },
      "execution_count": 2,
      "outputs": []
    },
    {
      "cell_type": "code",
      "source": [
        "model_path = \"/content/drive/MyDrive/Kaggle/SMILE_dataset/keras-facenet/keras-facenet/model/facenet_keras.h5\"\n",
        "model = load_model(model_path)"
      ],
      "metadata": {
        "colab": {
          "base_uri": "https://localhost:8080/"
        },
        "id": "dxRP7J3wAhq_",
        "outputId": "2482688a-3c13-4343-9150-3f2cadafcb91"
      },
      "execution_count": 3,
      "outputs": [
        {
          "output_type": "stream",
          "name": "stdout",
          "text": [
            "WARNING:tensorflow:No training configuration found in the save file, so the model was *not* compiled. Compile it manually.\n"
          ]
        }
      ]
    },
    {
      "cell_type": "code",
      "source": [
        "def prewhiten(x):\n",
        "    if x.ndim == 4:\n",
        "        axis = (1, 2, 3)\n",
        "        size = x[0].size\n",
        "    elif x.ndim == 3:\n",
        "        axis = (0, 1, 2)\n",
        "        size = x.size\n",
        "    else:\n",
        "        raise ValueError('Dimension should be 3 or 4')\n",
        "\n",
        "    mean = np.mean(x, axis=axis, keepdims=True)\n",
        "    std = np.std(x, axis=axis, keepdims=True)\n",
        "    std_adj = np.maximum(std, 1.0/np.sqrt(size))\n",
        "    y = (x - mean) / std_adj\n",
        "    return y\n",
        "\n",
        "def l2_normalize(x, axis=-1, epsilon=1e-10):\n",
        "    output = x / np.sqrt(np.maximum(np.sum(np.square(x), axis=axis, keepdims=True), epsilon))\n",
        "    return output\n",
        "\n",
        "def load_and_align_images(filepaths, margin,image_size = 160):\n",
        "    \n",
        "    aligned_images = []\n",
        "    for filepath in filepaths:\n",
        "        img = imread(filepath)\n",
        "        aligned = resize(img, (image_size, image_size), mode='reflect')\n",
        "        aligned_images.append(aligned)\n",
        "            \n",
        "    return np.array(aligned_images)"
      ],
      "metadata": {
        "id": "z1-aUHI4A3JD"
      },
      "execution_count": 4,
      "outputs": []
    },
    {
      "cell_type": "code",
      "source": [
        "def calc_embs(filepaths, margin=10, batch_size=512):\n",
        "    pd = []\n",
        "    for start in tqdm(range(0, len(filepaths), batch_size)):\n",
        "        aligned_images = prewhiten(load_and_align_images(filepaths[start:start+batch_size], margin))\n",
        "        pd.append(model.predict_on_batch(aligned_images))\n",
        "    embs = l2_normalize(np.concatenate(pd))\n",
        "\n",
        "    return embs"
      ],
      "metadata": {
        "id": "Wf4-kPRIBAZd"
      },
      "execution_count": 5,
      "outputs": []
    },
    {
      "cell_type": "code",
      "source": [
        "test_images = os.listdir(\"/content/drive/MyDrive/Kaggle/SMILE_dataset/test/\")\n",
        "test_embs = calc_embs([os.path.join(\"/content/drive/MyDrive/Kaggle/SMILE_dataset/test/\", f) for f in test_images])\n",
        "# np.save(\"test_embs.npy\", test_embs)\n",
        "test_embs"
      ],
      "metadata": {
        "colab": {
          "base_uri": "https://localhost:8080/"
        },
        "id": "FQyJkkEiD2uT",
        "outputId": "44927f3e-aa09-46ac-975d-0e074435d78f"
      },
      "execution_count": 6,
      "outputs": [
        {
          "output_type": "stream",
          "name": "stderr",
          "text": [
            "100%|██████████| 13/13 [06:27<00:00, 29.79s/it]\n"
          ]
        },
        {
          "output_type": "execute_result",
          "data": {
            "text/plain": [
              "array([[ 0.03484537,  0.12908678, -0.0181959 , ..., -0.2585555 ,\n",
              "        -0.13148756, -0.01973889],\n",
              "       [ 0.04109402,  0.04779609,  0.12647359, ..., -0.07085994,\n",
              "         0.05687727,  0.044689  ],\n",
              "       [-0.0494254 , -0.01584665,  0.08263745, ..., -0.05969948,\n",
              "         0.10659206, -0.14784393],\n",
              "       ...,\n",
              "       [ 0.06496517,  0.02294946,  0.07013849, ..., -0.2266992 ,\n",
              "        -0.05978282, -0.01152707],\n",
              "       [ 0.05065063, -0.05268567, -0.08779337, ...,  0.04090406,\n",
              "         0.03944483, -0.00751425],\n",
              "       [-0.04110827,  0.01781067, -0.0139101 , ..., -0.03060862,\n",
              "        -0.11479206,  0.02817542]], dtype=float32)"
            ]
          },
          "metadata": {},
          "execution_count": 6
        }
      ]
    },
    {
      "cell_type": "code",
      "source": [
        "test_df[\"distance\"] = 0\n",
        "img2idx = dict()\n",
        "for idx, img in enumerate(test_images):\n",
        "    img2idx[img] = idx"
      ],
      "metadata": {
        "id": "ta69DjNAEX8G"
      },
      "execution_count": 7,
      "outputs": []
    },
    {
      "cell_type": "code",
      "source": [
        "for idx, row in tqdm(test_df.iterrows(), total=len(test_df)):\n",
        "    imgs = [test_embs[img2idx[img]] for img in row.img_pair.split(\"-\")]\n",
        "    test_df.loc[idx, \"distance\"] = distance.euclidean(*imgs)"
      ],
      "metadata": {
        "colab": {
          "base_uri": "https://localhost:8080/"
        },
        "id": "ER9j-9O7EbTd",
        "outputId": "b480b24c-f24f-4873-e330-b9b896c1fff8"
      },
      "execution_count": 8,
      "outputs": [
        {
          "output_type": "stream",
          "name": "stderr",
          "text": [
            "100%|██████████| 5310/5310 [00:02<00:00, 2544.36it/s]\n"
          ]
        }
      ]
    },
    {
      "cell_type": "code",
      "source": [
        "all_distances = test_df.distance.values\n",
        "sum_dist = np.sum(all_distances)"
      ],
      "metadata": {
        "id": "4bFspbsJEeMj"
      },
      "execution_count": 9,
      "outputs": []
    },
    {
      "cell_type": "code",
      "source": [
        "probs = []\n",
        "for dist in tqdm(all_distances):\n",
        "    prob = np.sum(all_distances[np.where(all_distances <= dist)[0]])/sum_dist\n",
        "    probs.append(1 - prob)"
      ],
      "metadata": {
        "colab": {
          "base_uri": "https://localhost:8080/"
        },
        "id": "iAk5BwkKEf6_",
        "outputId": "9068f6fe-b7e4-40af-c5b5-40593f3562d2"
      },
      "execution_count": 10,
      "outputs": [
        {
          "output_type": "stream",
          "name": "stderr",
          "text": [
            "100%|██████████| 5310/5310 [00:00<00:00, 25455.82it/s]\n"
          ]
        }
      ]
    },
    {
      "cell_type": "code",
      "source": [
        "sub_df = pd.read_csv(\"/content/drive/MyDrive/Kaggle/SMILE_dataset/sample_submission.csv\")\n",
        "sub_df.is_related = probs\n",
        "sub_df.to_csv(\"submission.csv\", index=False)"
      ],
      "metadata": {
        "id": "K6F34MNmEhYa"
      },
      "execution_count": 11,
      "outputs": []
    }
  ]
}